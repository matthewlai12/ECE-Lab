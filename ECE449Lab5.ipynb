{
  "nbformat": 4,
  "nbformat_minor": 0,
  "metadata": {
    "colab": {
      "provenance": [],
      "toc_visible": true,
      "authorship_tag": "ABX9TyO6y5NMwxZvKwfZUawFJ1Hb",
      "include_colab_link": true
    },
    "kernelspec": {
      "name": "python3",
      "display_name": "Python 3"
    },
    "language_info": {
      "name": "python"
    }
  },
  "cells": [
    {
      "cell_type": "markdown",
      "metadata": {
        "id": "view-in-github",
        "colab_type": "text"
      },
      "source": [
        "<a href=\"https://colab.research.google.com/github/matthewlai12/ECE-Lab/blob/main/ECE449Lab5.ipynb\" target=\"_parent\"><img src=\"https://colab.research.google.com/assets/colab-badge.svg\" alt=\"Open In Colab\"/></a>"
      ]
    },
    {
      "cell_type": "markdown",
      "source": [
        "#ECE 449 Lab 5: Matthew Lai\n",
        "In this lab, our goal is to optimize our fuzzy tree from lab 4 so that it outperforms it. We will do so by using genetic algorithms to train our fuzzy system on."
      ],
      "metadata": {
        "id": "6pEeMp-XYLvR"
      }
    },
    {
      "cell_type": "markdown",
      "source": [
        "##Preliminary Installations and Imports"
      ],
      "metadata": {
        "id": "rgoJYlkLYydI"
      }
    },
    {
      "cell_type": "code",
      "execution_count": 87,
      "metadata": {
        "colab": {
          "base_uri": "https://localhost:8080/"
        },
        "collapsed": true,
        "id": "39CCPWLGXKjP",
        "outputId": "fc39f1cc-0f73-474d-a7f9-ac090e6eda0a"
      },
      "outputs": [
        {
          "output_type": "stream",
          "name": "stdout",
          "text": [
            "Requirement already satisfied: scikit-fuzzy in /usr/local/lib/python3.10/dist-packages (0.5.0)\n",
            "Requirement already satisfied: EasyGA in /usr/local/lib/python3.10/dist-packages (1.6.1)\n",
            "Requirement already satisfied: matplotlib~=3.3.2 in /usr/local/lib/python3.10/dist-packages (from EasyGA) (3.3.4)\n",
            "Requirement already satisfied: pyserial~=3.4 in /usr/local/lib/python3.10/dist-packages (from EasyGA) (3.5)\n",
            "Requirement already satisfied: pytest>=3.7 in /usr/local/lib/python3.10/dist-packages (from EasyGA) (8.3.3)\n",
            "Requirement already satisfied: tabulate>=0.8.7 in /usr/local/lib/python3.10/dist-packages (from EasyGA) (0.9.0)\n",
            "Requirement already satisfied: cycler>=0.10 in /usr/local/lib/python3.10/dist-packages (from matplotlib~=3.3.2->EasyGA) (0.12.1)\n",
            "Requirement already satisfied: kiwisolver>=1.0.1 in /usr/local/lib/python3.10/dist-packages (from matplotlib~=3.3.2->EasyGA) (1.4.7)\n",
            "Requirement already satisfied: numpy>=1.15 in /usr/local/lib/python3.10/dist-packages (from matplotlib~=3.3.2->EasyGA) (1.26.4)\n",
            "Requirement already satisfied: pillow>=6.2.0 in /usr/local/lib/python3.10/dist-packages (from matplotlib~=3.3.2->EasyGA) (11.0.0)\n",
            "Requirement already satisfied: pyparsing!=2.0.4,!=2.1.2,!=2.1.6,>=2.0.3 in /usr/local/lib/python3.10/dist-packages (from matplotlib~=3.3.2->EasyGA) (3.2.0)\n",
            "Requirement already satisfied: python-dateutil>=2.1 in /usr/local/lib/python3.10/dist-packages (from matplotlib~=3.3.2->EasyGA) (2.8.2)\n",
            "Requirement already satisfied: iniconfig in /usr/local/lib/python3.10/dist-packages (from pytest>=3.7->EasyGA) (2.0.0)\n",
            "Requirement already satisfied: packaging in /usr/local/lib/python3.10/dist-packages (from pytest>=3.7->EasyGA) (24.2)\n",
            "Requirement already satisfied: pluggy<2,>=1.5 in /usr/local/lib/python3.10/dist-packages (from pytest>=3.7->EasyGA) (1.5.0)\n",
            "Requirement already satisfied: exceptiongroup>=1.0.0rc8 in /usr/local/lib/python3.10/dist-packages (from pytest>=3.7->EasyGA) (1.2.2)\n",
            "Requirement already satisfied: tomli>=1 in /usr/local/lib/python3.10/dist-packages (from pytest>=3.7->EasyGA) (2.1.0)\n",
            "Requirement already satisfied: six>=1.5 in /usr/local/lib/python3.10/dist-packages (from python-dateutil>=2.1->matplotlib~=3.3.2->EasyGA) (1.16.0)\n"
          ]
        }
      ],
      "source": [
        "!pip install scikit-fuzzy\n",
        "!pip install EasyGA\n",
        "import numpy as np\n",
        "import pandas as pd\n",
        "import skfuzzy as fuzz\n",
        "from skfuzzy import control as ctrl\n",
        "import EasyGA\n"
      ]
    },
    {
      "cell_type": "markdown",
      "source": [
        "##Section 1: Data Cleaning\n",
        "In this section we will clean our datasets by clipping values less than 0 and greater to than 1 to be 0 and 1 respectively."
      ],
      "metadata": {
        "id": "hvmau_7FY5TM"
      }
    },
    {
      "cell_type": "code",
      "source": [
        "training_set = pd.read_csv(\"tipper_train.csv\")\n",
        "test_set = pd.read_csv(\"tipper_test.csv\")\n",
        "\n",
        "for dataset in [training_set, test_set]:\n",
        "    # clip values between 0 and 1\n",
        "    dataset.clip(lower=0, inplace=True)\n",
        "    dataset.clip(upper=1, inplace=True)"
      ],
      "metadata": {
        "id": "I_CDQ0g2ZVtl"
      },
      "execution_count": 88,
      "outputs": []
    },
    {
      "cell_type": "markdown",
      "source": [
        "##Section 2: Defining our Fuzzy System\n",
        "In this section, we will be focused on defining antecedents and consequents. We will also define our genes."
      ],
      "metadata": {
        "id": "ne-MvYmcfVyn"
      }
    },
    {
      "cell_type": "markdown",
      "source": [
        "###Antecedents:"
      ],
      "metadata": {
        "id": "mOjHhm74frx9"
      }
    },
    {
      "cell_type": "code",
      "source": [
        "# Function to define our antecedents\n",
        "def antecedents():\n",
        "  # Food Quality Antecedents\n",
        "  temperature = ctrl.Antecedent(np.linspace(0, 10, 11),'temperature')\n",
        "  flavor = ctrl.Antecedent(np.linspace(0, 10, 11),'flavor')\n",
        "  portion_size = ctrl.Antecedent(np.linspace(0, 10, 11),'portion_size')\n",
        "  # Service Quality Antecedents:\n",
        "  attentiveness = ctrl.Antecedent(np.linspace(0, 10, 11),'attentiveness')\n",
        "  friendliness = ctrl.Antecedent(np.linspace(0, 10, 11),'friendliness')\n",
        "  speed_of_service = ctrl.Antecedent(np.linspace(0, 10, 11),'speed_of_service')\n",
        "\n",
        "  # #Antecedents for the second stage\n",
        "  food_quality_input = ctrl.Antecedent(np.linspace(0, 10, 11),'food_quality_input')\n",
        "  service_quality_input = ctrl.Antecedent(np.linspace(0, 10, 11),'service_quality_input')\n",
        "  return temperature, flavor, portion_size, attentiveness, friendliness, speed_of_service, food_quality_input, service_quality_input"
      ],
      "metadata": {
        "id": "kZ13GK81fq3Z"
      },
      "execution_count": 89,
      "outputs": []
    },
    {
      "cell_type": "markdown",
      "source": [
        "###Consequents:"
      ],
      "metadata": {
        "id": "EwrWuASOf0wA"
      }
    },
    {
      "cell_type": "code",
      "source": [
        "# Function to define our consequents\n",
        "def consequents():\n",
        "  # Food Quality Consequents\n",
        "  food_quality_output = ctrl.Consequent(np.linspace(0, 10, 11),'food_quality_output')\n",
        "  # Service Quality Consequents\n",
        "  service_quality_output = ctrl.Consequent(np.linspace(0, 10, 11),'service_quality_output')\n",
        "\n",
        "  # Second Stage Consequents\n",
        "  tip = ctrl.Consequent(np.linspace(0, 25, 26),'tip')\n",
        "  return food_quality_output, service_quality_output, tip"
      ],
      "metadata": {
        "id": "-b5ktsRff285"
      },
      "execution_count": 90,
      "outputs": []
    },
    {
      "cell_type": "markdown",
      "source": [
        "###Genes:"
      ],
      "metadata": {
        "id": "eOE7lLYBANUg"
      }
    },
    {
      "cell_type": "code",
      "source": [
        "def gene():\n",
        "\n",
        "    poor = [np.random.uniform(0, 2 - 0.5), np.random.uniform(2 - 0.5, 2 + 0.5), np.random.uniform(2 + 0.5, 4)]\n",
        "    average = [np.random.uniform(3, 5 - 0.5), np.random.uniform(5 - 0.5, 5 + 0.5), np.random.uniform(5 + 0.5, 7)]\n",
        "    good = [np.random.uniform(6, 8 - 0.5), np.random.uniform(8 - 0.5, 8 + 0.5), np.random.uniform(8 + 0.5, 10)]\n",
        "\n",
        "    chromosome = poor + average + good\n",
        "    print(\"Chromosome: \", chromosome)\n",
        "    return chromosome"
      ],
      "metadata": {
        "id": "0nj50ai7AO2p"
      },
      "execution_count": 91,
      "outputs": []
    },
    {
      "cell_type": "markdown",
      "source": [
        "###Rules:\n",
        "We use the same rules as last lab."
      ],
      "metadata": {
        "id": "_gD8gOC1AuKR"
      }
    },
    {
      "cell_type": "code",
      "source": [
        "# Function to define our rules\n",
        "def rules(temperature, flavor, portion_size, attentiveness, friendliness, speed_of_service, food_quality_input, service_quality_input, food_quality_output, service_quality_output, tip):\n",
        "  food_rule1 = ctrl.Rule(temperature['poor'] | flavor['poor'] | portion_size['poor'], food_quality_output['poor'])\n",
        "  food_rule2 = ctrl.Rule(temperature['average'] & flavor['average'] & portion_size['average'], food_quality_output['average'])\n",
        "  food_rule3 = ctrl.Rule(temperature['good'] & flavor['good'] & portion_size['good'], food_quality_output['good'])\n",
        "\n",
        "  service_rule1 = ctrl.Rule(attentiveness['poor'] | friendliness['poor'] | speed_of_service['poor'], service_quality_output['poor'])\n",
        "  service_rule2 = ctrl.Rule(attentiveness['average'] & friendliness['average'] & speed_of_service['average'], service_quality_output['average'])\n",
        "  service_rule3 = ctrl.Rule(attentiveness['good'] & friendliness['good'] & speed_of_service['good'], service_quality_output['good'])\n",
        "\n",
        "  tipping_rule1 = ctrl.Rule(food_quality_input['poor'] | service_quality_input['poor'], tip['poor'])\n",
        "  tipping_rule2 = ctrl.Rule(food_quality_input['average'] & service_quality_input['average'], tip['average'])\n",
        "  tipping_rule3 = ctrl.Rule(food_quality_input['good'] & service_quality_input['good'], tip['good'])\n",
        "\n",
        "  return food_rule1, food_rule2, food_rule3, service_rule1, service_rule2, service_rule3, tipping_rule1, tipping_rule2, tipping_rule3"
      ],
      "metadata": {
        "id": "2f_nNMxbA2ib"
      },
      "execution_count": 92,
      "outputs": []
    },
    {
      "cell_type": "markdown",
      "source": [
        "##Section 3: Building our Fuzzy System\n",
        "In this section we will create our fuzzy system."
      ],
      "metadata": {
        "id": "3B4s1dJjAdgd"
      }
    },
    {
      "cell_type": "code",
      "source": [
        "def setup_fuzzy_system(chromosome):\n",
        "\n",
        "    temperature, flavor, portion_size, attentiveness, friendliness, speed_of_service, food_quality_input, service_quality_input = antecedents()\n",
        "    food_quality_output, service_quality_output, tip = consequents()\n",
        "\n",
        "    print(\"Chromosome: \", chromosome)\n",
        "    universe = np.linspace(0, 10, 11)\n",
        "\n",
        "    gene = chromosome[0]\n",
        "\n",
        "\n",
        "\n",
        "    if type(chromosome) == list:\n",
        "      a_pr, b_pr, c_pr = gene[0], gene[1], gene[2]\n",
        "      a_avg, b_avg, c_avg = gene[3], gene[4], gene[5]\n",
        "      a_gd, b_gd, c_gd = gene[6], gene[7], gene[8]\n",
        "\n",
        "    else:\n",
        "      a_pr, b_pr, c_pr = gene.value[0], gene.value[1], gene.value[2]\n",
        "      a_avg, b_avg, c_avg = gene.value[3], gene.value[4], gene.value[5]\n",
        "      a_gd, b_gd, c_gd = gene.value[6], gene.value[7], gene.value[8]\n",
        "\n",
        "    temperature[\"poor\"] = fuzz.trimf(universe, [a_pr, b_pr, c_pr])\n",
        "    temperature[\"average\"] = fuzz.trimf(universe, [a_avg, b_avg, c_avg])\n",
        "    temperature[\"good\"] = fuzz.trimf(universe, [a_gd, b_gd, c_gd])\n",
        "\n",
        "\n",
        "    flavor[\"poor\"] = fuzz.trimf(universe, [a_pr, b_pr, c_pr])\n",
        "    flavor[\"average\"] = fuzz.trimf(universe, [a_avg, b_avg, c_avg])\n",
        "    flavor[\"good\"] = fuzz.trimf(universe, [a_gd, b_gd, c_gd])\n",
        "\n",
        "\n",
        "    portion_size[\"poor\"] = fuzz.trimf(universe, [a_pr, b_pr, c_pr])\n",
        "    portion_size[\"average\"] = fuzz.trimf(universe, [a_avg, b_avg, c_avg])\n",
        "    portion_size[\"good\"] = fuzz.trimf(universe, [a_gd, b_gd, c_gd])\n",
        "\n",
        "\n",
        "    attentiveness[\"poor\"] = fuzz.trimf(universe, [a_pr, b_pr, c_pr])\n",
        "    attentiveness[\"average\"] = fuzz.trimf(universe, [a_avg, b_avg, c_avg])\n",
        "    attentiveness[\"good\"] = fuzz.trimf(universe, [a_gd, b_gd, c_gd])\n",
        "\n",
        "\n",
        "    friendliness[\"poor\"] = fuzz.trimf(universe, [a_pr, b_pr, c_pr])\n",
        "    friendliness[\"average\"] = fuzz.trimf(universe, [a_avg, b_avg, c_avg])\n",
        "    friendliness[\"good\"] = fuzz.trimf(universe, [a_gd, b_gd, c_gd])\n",
        "\n",
        "\n",
        "\n",
        "    speed_of_service[\"poor\"] = fuzz.trimf(universe, [a_pr, b_pr, c_pr])\n",
        "    speed_of_service[\"average\"] = fuzz.trimf(universe, [a_avg, b_avg, c_avg])\n",
        "    speed_of_service[\"good\"] = fuzz.trimf(universe, [a_gd, b_gd, c_gd])\n",
        "\n",
        "\n",
        "    food_quality_input[\"poor\"] = fuzz.trimf(universe, [a_pr, b_pr, c_pr])\n",
        "    food_quality_input[\"average\"] = fuzz.trimf(universe, [a_avg, b_avg, c_avg])\n",
        "    food_quality_input[\"good\"] = fuzz.trimf(universe, [a_gd, b_gd, c_gd])\n",
        "\n",
        "    service_quality_input[\"poor\"] = fuzz.trimf(universe, [a_pr, b_pr, c_pr])\n",
        "    service_quality_input[\"average\"] = fuzz.trimf(universe, [a_avg, b_avg, c_avg])\n",
        "    service_quality_input[\"good\"] = fuzz.trimf(universe, [a_gd, b_gd, c_gd])\n",
        "\n",
        "\n",
        "\n",
        "    food_quality_output[\"poor\"] = fuzz.trimf(universe, [a_pr, b_pr, c_pr])\n",
        "    food_quality_output[\"average\"] = fuzz.trimf(universe, [a_avg, b_avg, c_avg])\n",
        "    food_quality_output[\"good\"] = fuzz.trimf(universe, [a_gd, b_gd, c_gd])\n",
        "\n",
        "\n",
        "\n",
        "    service_quality_output[\"poor\"] = fuzz.trimf(universe, [a_pr, b_pr, c_pr])\n",
        "    service_quality_output[\"average\"] = fuzz.trimf(universe, [a_avg, b_avg, c_avg])\n",
        "    service_quality_output[\"good\"] = fuzz.trimf(universe, [a_gd, b_gd, c_gd])\n",
        "\n",
        "\n",
        "\n",
        "    tip[\"poor\"] = fuzz.trimf(tip.universe, [a_pr, b_pr, c_pr])\n",
        "    tip[\"average\"] = fuzz.trimf(tip.universe, [a_avg, b_avg, c_avg])\n",
        "    tip[\"good\"] = fuzz.trimf(tip.universe, [a_gd, b_gd, c_gd])\n",
        "\n",
        "    food_rule1, food_rule2, food_rule3, service_rule1, service_rule2, service_rule3, tipping_rule1, tipping_rule2, tipping_rule3 = rules(temperature, flavor, portion_size, attentiveness, friendliness, speed_of_service, food_quality_input, service_quality_input, food_quality_output, service_quality_output, tip)\n",
        "\n",
        "    food_quality_ctrl = ctrl.ControlSystem([food_rule1, food_rule2, food_rule3])\n",
        "    food_sim = ctrl.ControlSystemSimulation(food_quality_ctrl)\n",
        "\n",
        "    service_quality_ctrl = ctrl.ControlSystem([service_rule1, service_rule2, service_rule3])\n",
        "    service_sim = ctrl.ControlSystemSimulation(service_quality_ctrl)\n",
        "\n",
        "    tip_ctrl = ctrl.ControlSystem([tipping_rule1, tipping_rule2, tipping_rule3])\n",
        "    tip_sim = ctrl.ControlSystemSimulation(tip_ctrl)\n",
        "\n",
        "    return food_sim, service_sim, tip_sim\n",
        "\n",
        "\n",
        "\n"
      ],
      "metadata": {
        "id": "uB_kgEyuBJqu"
      },
      "execution_count": 93,
      "outputs": []
    },
    {
      "cell_type": "markdown",
      "source": [
        "##Section 4: Running our Simulations\n",
        "In this section, we will use a combination of functions to run our fuzzy system."
      ],
      "metadata": {
        "id": "DF7X-EnvGpcy"
      }
    },
    {
      "cell_type": "markdown",
      "source": [
        "###Simulation Function:"
      ],
      "metadata": {
        "id": "6JIQ0BLEG6G9"
      }
    },
    {
      "cell_type": "code",
      "source": [
        "def execute_fuzzy_inference(food_sim, service_sim, tip_sim, inputs):\n",
        "\n",
        "    # Simulation 1: Determining food qualtiy\n",
        "    food_sim.input[\"temperature\"] = inputs[\"temperature\"]\n",
        "    food_sim.input[\"flavor\"] = inputs[\"flavor\"]\n",
        "    food_sim.input[\"portion_size\"] = inputs[\"portion_size\"]\n",
        "    food_sim.compute()\n",
        "\n",
        "    # Simulation 2: Determining service quality\n",
        "    service_sim.input[\"attentiveness\"] = inputs[\"attentiveness\"]\n",
        "    service_sim.input[\"friendliness\"] = inputs[\"friendliness\"]\n",
        "    service_sim.input[\"speed_of_service\"] = inputs[\"speed_of_service\"]\n",
        "    service_sim.compute()\n",
        "\n",
        "\n",
        "    # Simulation 3: Determining tip amount\n",
        "    tip_sim.input[\"food_quality_input\"] = food_sim.output[\"food_quality_output\"]\n",
        "    tip_sim.input[\"service_quality_input\"] = service_sim.output[\"service_quality_output\"]\n",
        "    tip_sim.compute()\n",
        "    recommended_tip = tip_sim.output[\"tip\"]\n",
        "    print(\"Recommended Tip: \", recommended_tip)\n",
        "    return recommended_tip*3"
      ],
      "metadata": {
        "id": "NHipssxYHCBb"
      },
      "execution_count": 94,
      "outputs": []
    },
    {
      "cell_type": "markdown",
      "source": [
        "###Fitness Function"
      ],
      "metadata": {
        "id": "0BbJsCYlHHvj"
      }
    },
    {
      "cell_type": "code",
      "source": [
        "def fitness(chromosome):\n",
        "    food_sim, service_sim, tip_sim = setup_fuzzy_system(chromosome)\n",
        "    total_error = 0\n",
        "    for index, row in training_set.iterrows():\n",
        "        inputs = {\n",
        "          \"temperature\": max(min(row[\"food temperature\"]*10, max(chromosome[0].value)), min(chromosome[0].value)),\n",
        "          \"flavor\": max(min(row[\"food flavor\"]*10, max(chromosome[0].value)), min(chromosome[0].value)),\n",
        "          \"portion_size\": max(min(row[\"portion size\"]*10, max(chromosome[0].value)), min(chromosome[0].value)),\n",
        "          \"attentiveness\": max(min(row[\"attentiveness\"]*10, max(chromosome[0].value)), min(chromosome[0].value)),\n",
        "          \"friendliness\": max(min(row[\"friendliness\"]*10, max(chromosome[0].value)), min(chromosome[0].value)),\n",
        "          \"speed_of_service\": max(min(row[\"speed of service\"]*10, max(chromosome[0].value)), min(chromosome[0].value))\n",
        "        }\n",
        "        actual_tip = row[\"tip\"]\n",
        "        predicted_tip = execute_fuzzy_inference(food_sim, service_sim, tip_sim, inputs)\n",
        "        error = abs(actual_tip - predicted_tip)\n",
        "        total_error += error\n",
        "        return total_error"
      ],
      "metadata": {
        "id": "2aUpRuh2HLgB"
      },
      "execution_count": 95,
      "outputs": []
    },
    {
      "cell_type": "markdown",
      "source": [
        "###GA Function:"
      ],
      "metadata": {
        "id": "hr4Q8AM_Iqg2"
      }
    },
    {
      "cell_type": "code",
      "source": [
        "import os\n",
        "import EasyGA\n",
        "\n",
        "# Ensure database is removed\n",
        "while True:\n",
        "    if os.path.exists(\"database.db\"):\n",
        "        os.remove(\"database.db\")\n",
        "    else:\n",
        "        break\n",
        "\n",
        "\n",
        "# Define the genetic algorithm\n",
        "ga = EasyGA.GA()\n",
        "ga.gene_impl = lambda: gene()\n",
        "ga.chromosome_length = 1  # genes in a chromosome\n",
        "ga.population_size = 20  # number of chromosomes in the population\n",
        "ga.target_fitness_type = \"min\"\n",
        "ga.generation_goal = 2  # number of generations to run\n",
        "ga.fitness_function_impl = fitness\n",
        "\n",
        "# Run the genetic algorithm\n",
        "ga.evolve()\n",
        "ga.print_best_chromosome()\n",
        "\n",
        "best_chromosome = input(\"Input the best chromosome values above, make sure the input is a string with comma seperated values inside the chromosome\")\n",
        "\n",
        "while(len(list(map(float, (item.strip(' ') for item in list(best_chromosome.strip('[]').split(',')))))) != 9):\n",
        "  best_chromosome = input('Invalid input! Try again: ')\n",
        "\n",
        "chromosome_values = list(map(float, (item.strip(' ') for item in list(best_chromosome.strip('[]').split(',')))))\n",
        "\n",
        "print('\\nChromosome values')\n",
        "food_sim, service_sim, tip_sim = setup_fuzzy_system(chromosome=[chromosome_values])\n"
      ],
      "metadata": {
        "colab": {
          "base_uri": "https://localhost:8080/"
        },
        "collapsed": true,
        "id": "d50Q_AGLIs1M",
        "outputId": "7816ff10-713b-4baa-a3ca-86996db73cdb"
      },
      "execution_count": 96,
      "outputs": [
        {
          "output_type": "stream",
          "name": "stdout",
          "text": [
            "Chromosome:  [1.37231970922485, 1.6915543025249073, 3.6213629633134654, 3.943131765135691, 5.307532415181967, 5.591044698152918, 6.475387920153994, 8.087906032123911, 9.252568120995832]\n",
            "Chromosome:  [0.8193600389368019, 2.40343292909715, 3.049137502973756, 3.1543169846532226, 5.023329044536812, 6.410930500047901, 6.275416397677081, 8.140773527591493, 8.942645043953886]\n",
            "Chromosome:  [0.5715363721939335, 1.6672510969525336, 3.4353517336439654, 3.4201228456416324, 4.841656026438157, 6.847805407632236, 6.140110024195794, 7.828231313989757, 9.782153760224817]\n",
            "Chromosome:  [1.1289319878692674, 1.6524781132550483, 3.209070039550511, 3.313968834528687, 4.7343665113032145, 5.983243666049794, 6.737982309543411, 8.379922543792516, 8.898804506726107]\n",
            "Chromosome:  [1.4042847271931325, 2.0551581530626506, 2.689797138326716, 3.2405074734811548, 4.549657620521203, 6.079212056455524, 6.1055120594222, 8.412933257939343, 9.49605225512692]\n",
            "Chromosome:  [0.8116893843130814, 2.010063466629898, 2.75323022666867, 3.4838705072167953, 5.006499054212204, 6.229145867826189, 7.259912339446643, 8.462961671459741, 9.385922005214159]\n",
            "Chromosome:  [0.6640219975560373, 1.8950182440188938, 3.5281694203597924, 3.045359973211677, 4.68629680035521, 6.965376163231603, 7.090355175841502, 8.345773302847093, 8.706882351128693]\n",
            "Chromosome:  [1.4565848104485397, 1.542853682851645, 3.4525568775647426, 3.492404905268563, 5.12487545984543, 5.8406627597081915, 7.327497972368233, 8.244938695817464, 9.785042381289502]\n",
            "Chromosome:  [1.4208010355053258, 2.283878075956053, 3.605986456485024, 4.01601107363668, 4.625878766026476, 6.795679182755006, 6.406226145838693, 7.913683760127364, 9.534850308775518]\n",
            "Chromosome:  [0.12824808483989303, 1.7824194990586344, 3.232848761396595, 4.154152494104303, 5.3941993998176745, 5.575504082845686, 6.808276446974265, 7.801898490005376, 8.586719043371668]\n",
            "Chromosome:  [0.8489345378940787, 1.7154881402017055, 3.6001319065700694, 3.9610245178307313, 4.708470743224266, 6.857800513781038, 7.335268701961845, 8.28674335448975, 9.006251895358405]\n",
            "Chromosome:  [0.09652398781004767, 2.2029807632300282, 2.8634774013217212, 3.1536885996225945, 5.209916665451289, 6.452578302228649, 6.546038923849284, 7.910115633238335, 9.276004735370224]\n",
            "Chromosome:  [1.1184454563211468, 1.5156960117508353, 3.658847433182448, 4.269765596620514, 5.058168935522598, 6.946197696420677, 6.90983659574425, 8.151257010602505, 8.692936795451061]\n",
            "Chromosome:  [1.4897974653386807, 2.0382874380149425, 2.7454246569181704, 3.03086607222486, 5.248274645279369, 6.957225494866078, 6.702688644607331, 7.948854176342479, 9.026971178150559]\n",
            "Chromosome:  [0.6558786764573045, 2.212528270905898, 3.923238510282527, 4.406615260422171, 5.349897118843462, 6.943467219459428, 6.869914843806561, 8.264205355313788, 9.553077289915496]\n",
            "Chromosome:  [0.20899752356276668, 1.6544156321331216, 3.1345882550403816, 3.1352442765036317, 5.378640267654902, 5.9790765319460135, 7.237249438157939, 7.646501698915209, 9.374264482978512]\n",
            "Chromosome:  [0.9643836194464652, 1.842556201163354, 3.2926374640791254, 3.4414711183396136, 5.458216999397277, 6.57330737526514, 7.230163334324882, 7.889105439159333, 9.722321977533593]\n",
            "Chromosome:  [0.22183679374765036, 2.268718933598023, 2.9800265947618514, 3.635958974513507, 5.051919607417884, 5.930370526712014, 6.060850147006875, 8.085459963466466, 9.19284133714286]\n",
            "Chromosome:  [0.10194017142216766, 1.8604317797184802, 3.320065997099256, 3.612988552327218, 5.439315014633746, 6.314942269888078, 6.813936137958326, 8.343755480741276, 8.680374086623884]\n",
            "Chromosome:  [1.1350586480769085, 1.8954640927741577, 3.968782802338589, 3.2774084243826116, 5.063878289746808, 6.539629904865292, 7.257062212120876, 8.22825040874401, 9.675096656775947]\n",
            "Chromosome:  [[1.37231970922485, 1.6915543025249073, 3.6213629633134654, 3.943131765135691, 5.307532415181967, 5.591044698152918, 6.475387920153994, 8.087906032123911, 9.252568120995832]]\n",
            "Recommended Tip:  2.2886570949554184\n",
            "Chromosome:  [[0.8193600389368019, 2.40343292909715, 3.049137502973756, 3.1543169846532226, 5.023329044536812, 6.410930500047901, 6.275416397677081, 8.140773527591493, 8.942645043953886]]\n",
            "Recommended Tip:  1.959264685190569\n",
            "Chromosome:  [[0.5715363721939335, 1.6672510969525336, 3.4353517336439654, 3.4201228456416324, 4.841656026438157, 6.847805407632236, 6.140110024195794, 7.828231313989757, 9.782153760224817]]\n",
            "Recommended Tip:  1.8999238103852487\n",
            "Chromosome:  [[1.1289319878692674, 1.6524781132550483, 3.209070039550511, 3.313968834528687, 4.7343665113032145, 5.983243666049794, 6.737982309543411, 8.379922543792516, 8.898804506726107]]\n",
            "Recommended Tip:  2.1586177919649123\n",
            "Chromosome:  [[1.4042847271931325, 2.0551581530626506, 2.689797138326716, 3.2405074734811548, 4.549657620521203, 6.079212056455524, 6.1055120594222, 8.412933257939343, 9.49605225512692]]\n",
            "Recommended Tip:  2.0\n",
            "Chromosome:  [[0.8116893843130814, 2.010063466629898, 2.75323022666867, 3.4838705072167953, 5.006499054212204, 6.229145867826189, 7.259912339446643, 8.462961671459741, 9.385922005214159]]\n",
            "Recommended Tip:  1.8532610771426334\n",
            "Chromosome:  [[0.6640219975560373, 1.8950182440188938, 3.5281694203597924, 3.045359973211677, 4.68629680035521, 6.965376163231603, 7.090355175841502, 8.345773302847093, 8.706882351128693]]\n",
            "Recommended Tip:  2.032952211285445\n",
            "Chromosome:  [[1.4565848104485397, 1.542853682851645, 3.4525568775647426, 3.492404905268563, 5.12487545984543, 5.8406627597081915, 7.327497972368233, 8.244938695817464, 9.785042381289502]]\n",
            "Recommended Tip:  2.2459505828905493\n",
            "Chromosome:  [[1.4208010355053258, 2.283878075956053, 3.605986456485024, 4.01601107363668, 4.625878766026476, 6.795679182755006, 6.406226145838693, 7.913683760127364, 9.534850308775518]]\n",
            "Recommended Tip:  2.413773779237463\n",
            "Chromosome:  [[0.12824808483989303, 1.7824194990586344, 3.232848761396595, 4.154152494104303, 5.3941993998176745, 5.575504082845686, 6.808276446974265, 7.801898490005376, 8.586719043371668]]\n",
            "Recommended Tip:  1.76147612878237\n",
            "Chromosome:  [[0.8489345378940787, 1.7154881402017055, 3.6001319065700694, 3.9610245178307313, 4.708470743224266, 6.857800513781038, 7.335268701961845, 8.28674335448975, 9.006251895358405]]\n",
            "Recommended Tip:  2.107684014207429\n",
            "Chromosome:  [[0.09652398781004767, 2.2029807632300282, 2.8634774013217212, 3.1536885996225945, 5.209916665451289, 6.452578302228649, 6.546038923849284, 7.910115633238335, 9.276004735370224]]\n",
            "Recommended Tip:  1.6630565526505645\n",
            "Chromosome:  [[1.1184454563211468, 1.5156960117508353, 3.658847433182448, 4.269765596620514, 5.058168935522598, 6.946197696420677, 6.90983659574425, 8.151257010602505, 8.692936795451061]]\n",
            "Recommended Tip:  2.301626365851577\n",
            "Chromosome:  [[1.4897974653386807, 2.0382874380149425, 2.7454246569181704, 3.03086607222486, 5.248274645279369, 6.957225494866078, 6.702688644607331, 7.948854176342479, 9.026971178150559]]\n",
            "Recommended Tip:  1.9999999999999998\n",
            "Chromosome:  [[0.6558786764573045, 2.212528270905898, 3.923238510282527, 4.406615260422171, 5.349897118843462, 6.943467219459428, 6.869914843806561, 8.264205355313788, 9.553077289915496]]\n",
            "Recommended Tip:  2.1963985967713433\n",
            "Chromosome:  [[0.20899752356276668, 1.6544156321331216, 3.1345882550403816, 3.1352442765036317, 5.378640267654902, 5.9790765319460135, 7.237249438157939, 7.646501698915209, 9.374264482978512]]\n",
            "Recommended Tip:  1.6735900695231714\n",
            "Chromosome:  [[0.9643836194464652, 1.842556201163354, 3.2926374640791254, 3.4414711183396136, 5.458216999397277, 6.57330737526514, 7.230163334324882, 7.889105439159333, 9.722321977533593]]\n",
            "Recommended Tip:  2.1446450073765186\n",
            "Chromosome:  [[0.22183679374765036, 2.268718933598023, 2.9800265947618514, 3.635958974513507, 5.051919607417884, 5.930370526712014, 6.060850147006875, 8.085459963466466, 9.19284133714286]]\n",
            "Recommended Tip:  1.6795185530192605\n",
            "Chromosome:  [[0.10194017142216766, 1.8604317797184802, 3.320065997099256, 3.612988552327218, 5.439315014633746, 6.314942269888078, 6.813936137958326, 8.343755480741276, 8.680374086623884]]\n",
            "Recommended Tip:  1.82165440132134\n",
            "Chromosome:  [[1.1350586480769085, 1.8954640927741577, 3.968782802338589, 3.2774084243826116, 5.063878289746808, 6.539629904865292, 7.257062212120876, 8.22825040874401, 9.675096656775947]]\n",
            "Recommended Tip:  2.3447454561560477\n",
            "Chromosome:  [0.9504383122804967, 2.295186088028995, 2.9381185121799915, 3.3950532359375845, 5.318836270663456, 6.698736592760811, 6.257749120126131, 7.555684099277161, 9.871448480808777]\n",
            "Chromosome:  [1.2392360191779144, 2.274703755085447, 3.955706858111968, 3.5851186218529887, 4.893607914194259, 6.004626575921793, 6.756987155642484, 7.978322209878566, 8.587713450696178]\n",
            "Chromosome:  [1.3825431753249597, 1.7256242110969313, 3.232866229495426, 4.3505654384455354, 4.5303610189082315, 6.2032031047597185, 7.188495828665122, 7.7660911793774225, 9.888690468968564]\n",
            "Chromosome:  [[0.09652398781004767, 2.2029807632300282, 2.8634774013217212, 3.1536885996225945, 5.209916665451289, 6.452578302228649, 6.546038923849284, 7.910115633238335, 9.276004735370224]]\n",
            "Recommended Tip:  1.6630565526505645\n",
            "Chromosome:  [[0.9504383122804967, 2.295186088028995, 2.9381185121799915, 3.3950532359375845, 5.318836270663456, 6.698736592760811, 6.257749120126131, 7.555684099277161, 9.871448480808777]]\n",
            "Recommended Tip:  1.951667618335838\n",
            "Chromosome:  [[1.2392360191779144, 2.274703755085447, 3.955706858111968, 3.5851186218529887, 4.893607914194259, 6.004626575921793, 6.756987155642484, 7.978322209878566, 8.587713450696178]]\n",
            "Recommended Tip:  2.442037920247559\n",
            "Chromosome:  [[1.3825431753249597, 1.7256242110969313, 3.232866229495426, 4.3505654384455354, 4.5303610189082315, 6.2032031047597185, 7.188495828665122, 7.7660911793774225, 9.888690468968564]]\n",
            "Recommended Tip:  2.163373663209975\n",
            "Best Chromosome \t: [[0.09652398781004767, 2.2029807632300282, 2.8634774013217212, 3.1536885996225945, 5.209916665451289, 6.452578302228649, 6.546038923849284, 7.910115633238335, 9.276004735370224]]\n",
            "Best Fitness    \t: 3.9891696579516935\n",
            "Input the best chromosome values above, make sure the input is a string with comma seperated values inside the chromosome0.09652398781004767, 2.2029807632300282, 2.8634774013217212, 3.1536885996225945, 5.209916665451289, 6.452578302228649, 6.546038923849284, 7.910115633238335, 9.276004735370224\n",
            "\n",
            "Chromosome values\n",
            "Chromosome:  [[0.09652398781004767, 2.2029807632300282, 2.8634774013217212, 3.1536885996225945, 5.209916665451289, 6.452578302228649, 6.546038923849284, 7.910115633238335, 9.276004735370224]]\n"
          ]
        }
      ]
    },
    {
      "cell_type": "markdown",
      "source": [
        "###Run Function:"
      ],
      "metadata": {
        "id": "NsR8YN-jIMT2"
      }
    },
    {
      "cell_type": "code",
      "source": [
        "10# Function to validate inputs\n",
        "def get_valid_input(prompt, min_val=0, max_val=10):\n",
        "    while True:\n",
        "        try:\n",
        "            value = float(input(prompt))\n",
        "            if min_val <= value <= max_val:\n",
        "                return value\n",
        "            else:\n",
        "                print(f\"Please enter a value between {min_val} and {max_val}.\")\n",
        "        except ValueError:\n",
        "            print(\"Invalid input. Please enter a numeric value.\")\n",
        "\n",
        "# Start loop\n",
        "while True:\n",
        "    # Get the inputs\n",
        "    temperature_val = get_valid_input(\"Enter temperature (0-10): \")\n",
        "    flavor_val = get_valid_input(\"Enter flavor (0-10): \")\n",
        "    portion_size_val = get_valid_input(\"Enter portion size (0-10): \")\n",
        "\n",
        "    attentiveness_val = get_valid_input(\"Enter attentiveness (0-10): \")\n",
        "    friendliness_val = get_valid_input(\"Enter friendliness (0-10): \")\n",
        "    speed_of_service_val = get_valid_input(\"Enter speed of service (0-10): \")\n",
        "\n",
        "    # Set the inputs\n",
        "    food_sim.input[\"temperature\"] = max(min(temperature_val, max(chromosome_values)), min(chromosome_values))\n",
        "    food_sim.input[\"flavor\"] = max(min(flavor_val, max(chromosome_values)), min(chromosome_values))\n",
        "    food_sim.input[\"portion_size\"] = max(min(portion_size_val, max(chromosome_values)), min(chromosome_values))\n",
        "\n",
        "    # Compute food_quality_sim\n",
        "    food_sim.compute()\n",
        "    food_quality_output = food_sim.output['food_quality_output']\n",
        "\n",
        "    # Set the inputs\n",
        "    service_sim.input[\"attentiveness\"] = max(min(attentiveness_val, max(chromosome_values)), min(chromosome_values))\n",
        "    service_sim.input[\"friendliness\"] = max(min(friendliness_val, max(chromosome_values)), min(chromosome_values))\n",
        "    service_sim.input[\"speed_of_service\"] = max(min(speed_of_service_val, max(chromosome_values)), min(chromosome_values))\n",
        "\n",
        "    # Compute service_quality_sim\n",
        "    service_sim.compute()\n",
        "    service_quality_output = service_sim.output['service_quality_output']\n",
        "\n",
        "    # Set inputs based on results above\n",
        "    tip_sim.input[\"food_quality_input\"] = max(min(food_sim.output[\"food_quality_output\"], max(chromosome_values)), min(chromosome_values))\n",
        "    tip_sim.input[\"service_quality_input\"] = max(min(service_sim.output[\"service_quality_output\"], max(chromosome_values)), min(chromosome_values))\n",
        "\n",
        "    # Compute tip output\n",
        "    tip_sim.compute()\n",
        "    tip_output = tip_sim.output['tip']*3\n",
        "\n",
        "    # Print results\n",
        "    print(\"\\nResults:\")\n",
        "    print(f\"Food Quality: {food_quality_output:.2f}\")\n",
        "    print(f\"Service Quality: {service_quality_output:.2f}\")\n",
        "    print(f\"Tip Recommendation: {tip_output:.2f}\\n\")\n",
        "\n",
        "    # Continue or break the loop\n",
        "    continue_simulation = input(\"Do you want to perform another simulation? (yes/no): \").strip().lower()\n",
        "    if continue_simulation != \"yes\":\n",
        "        print(\"Exiting simulation.\")\n",
        "        break\n"
      ],
      "metadata": {
        "colab": {
          "base_uri": "https://localhost:8080/"
        },
        "id": "RzczI6JbIWo5",
        "outputId": "0a38db99-0b94-4646-a407-bdb467819d87"
      },
      "execution_count": 99,
      "outputs": [
        {
          "output_type": "stream",
          "name": "stdout",
          "text": [
            "Enter temperature (0-10): 10\n",
            "Enter flavor (0-10): 10\n",
            "Enter portion size (0-10): 10\n",
            "Enter attentiveness (0-10): 10\n",
            "Enter friendliness (0-10): 10\n",
            "Enter speed of service (0-10): 10\n",
            "\n",
            "Results:\n",
            "Food Quality: 7.93\n",
            "Service Quality: 7.93\n",
            "Tip Recommendation: 23.73\n",
            "\n",
            "Do you want to perform another simulation? (yes/no): yes\n",
            "Enter temperature (0-10): 0\n",
            "Enter flavor (0-10): 0\n",
            "Enter portion size (0-10): 0\n",
            "Enter attentiveness (0-10): 0\n",
            "Enter friendliness (0-10): 0\n",
            "Enter speed of service (0-10): 0\n",
            "\n",
            "Results:\n",
            "Food Quality: 1.51\n",
            "Service Quality: 1.51\n",
            "Tip Recommendation: 4.98\n",
            "\n",
            "Do you want to perform another simulation? (yes/no): yes\n",
            "Enter temperature (0-10): 5\n",
            "Enter flavor (0-10): 5\n",
            "Enter portion size (0-10): 5\n",
            "Enter attentiveness (0-10): 5\n",
            "Enter friendliness (0-10): 5\n",
            "Enter speed of service (0-10): 5\n",
            "\n",
            "Results:\n",
            "Food Quality: 4.97\n",
            "Service Quality: 4.97\n",
            "Tip Recommendation: 14.92\n",
            "\n",
            "Do you want to perform another simulation? (yes/no): yes\n",
            "Enter temperature (0-10): 0\n",
            "Enter flavor (0-10): 5\n",
            "Enter portion size (0-10): 10\n",
            "Enter attentiveness (0-10): 0\n",
            "Enter friendliness (0-10): 5\n",
            "Enter speed of service (0-10): 10\n",
            "\n",
            "Results:\n",
            "Food Quality: 1.51\n",
            "Service Quality: 1.51\n",
            "Tip Recommendation: 4.98\n",
            "\n",
            "Do you want to perform another simulation? (yes/no): yes\n",
            "Enter temperature (0-10): yes\n",
            "Invalid input. Please enter a numeric value.\n",
            "Enter temperature (0-10): 7\n",
            "Enter flavor (0-10): 10\n",
            "Enter portion size (0-10): 10\n",
            "Enter attentiveness (0-10): 7\n",
            "Enter friendliness (0-10): 10\n",
            "Enter speed of service (0-10): 10\n",
            "\n",
            "Results:\n",
            "Food Quality: 7.93\n",
            "Service Quality: 7.93\n",
            "Tip Recommendation: 23.73\n",
            "\n",
            "Do you want to perform another simulation? (yes/no): no\n",
            "Exiting simulation.\n"
          ]
        }
      ]
    },
    {
      "cell_type": "markdown",
      "source": [
        "##Section 5: Conclusion\n",
        "We will compare our results between the first and second time we used fuzzy systems now:\n",
        "\n",
        "When all inputs are consistently the same, we will compare the tip value:\n",
        "\n",
        "| Value | Lab 4 | Lab 5 |\n",
        "|----------|----------|----------|\n",
        "| 10   | 15.28 | 23.73 |\n",
        "| 0   | 9.72 | 4.98 |\n",
        "| 5   | 12.50  | 14.92 |\n",
        "\n",
        "In our case here, we can see that when the quality was higher it resulted in a better tip, and when quality was lower it resulted in a lower tip.\n",
        "When our tip was right in the middle, it was close to the middle value in both.\n",
        "Our key difference is that we will notice a a much better spread of values, leading us to see that the GA model was indeed better and more accurate.\n"
      ],
      "metadata": {
        "id": "pgpvBRWAQbhs"
      }
    },
    {
      "cell_type": "markdown",
      "source": [
        "###References:\n",
        "- ECE 449 Lab 5 Manual\n",
        "- ECE 449 Lab 5 Presentation\n",
        "- ECE 449 Slides posted by Dr. Musilek\n",
        "- ChatGPT: In this lab ChatGPT was used to help fix errors in my loop as well as to help validate inputs."
      ],
      "metadata": {
        "id": "KDnFUUL7SEN7"
      }
    }
  ]
}