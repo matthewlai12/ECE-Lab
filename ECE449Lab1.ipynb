{
  "nbformat": 4,
  "nbformat_minor": 0,
  "metadata": {
    "colab": {
      "provenance": [],
      "toc_visible": true,
      "authorship_tag": "ABX9TyOo3rntbD/TVn8g/ZEGPKj7",
      "include_colab_link": true
    },
    "kernelspec": {
      "name": "python3",
      "display_name": "Python 3"
    },
    "language_info": {
      "name": "python"
    }
  },
  "cells": [
    {
      "cell_type": "markdown",
      "metadata": {
        "id": "view-in-github",
        "colab_type": "text"
      },
      "source": [
        "<a href=\"https://colab.research.google.com/github/matthewlai12/ECE-Lab/blob/main/ECE449Lab1.ipynb\" target=\"_parent\"><img src=\"https://colab.research.google.com/assets/colab-badge.svg\" alt=\"Open In Colab\"/></a>"
      ]
    },
    {
      "cell_type": "markdown",
      "source": [
        "#**ECE 449 Lab 1: Matthew Lai**"
      ],
      "metadata": {
        "id": "hKMImoQAXK8y"
      }
    },
    {
      "cell_type": "markdown",
      "source": [
        "##Section 1: Data Collection\n",
        "The first thing we need to do when creating our pipeline is collect our data. We will import our data from a url to the database and drop the 'ID' column. Once we do this we can display box and whisker plots to get an understanding of our values (median, 1st and 3rd quartiles, min, and max)"
      ],
      "metadata": {
        "id": "w6U5-WktXdyq"
      }
    },
    {
      "cell_type": "code",
      "source": [
        "import pandas as pd\n",
        "import seaborn as sns\n",
        "import matplotlib.pyplot as plt\n",
        "\n",
        "\n",
        "# DATA COLLECTION:\n",
        "# We need to load the dataset in order to prepare it\n",
        "# Imported by reading the data csv file from the source\n",
        "\n",
        "# URL for the dataset\n",
        "url = \"https://archive.ics.uci.edu/ml/machine-learning-databases/breast-cancer-wisconsin/wdbc.data\"\n",
        "# We will create our columns to begin sorting the data, and name them based on the names (mean, standard error, worst value)\n",
        "columns = ['ID', 'Diagnosis', 'Radius', 'Texture', 'Perimeter', 'Area', 'Smoothness', 'Compactness', 'Concavity', 'Concave_Points', 'Symmetry', 'Fractal_Dimension',\n",
        "           'Radius SE', 'Texture SE', 'Perimeter SE', 'Area SE', 'Smoothness SE', 'Compactness SE', 'Concavity SE', 'Concave_Points SE', 'Symmetry SE', 'Fractal_Dimension SE',\n",
        "           'Radius Worst', 'Texture Worst', 'Perimeter Worst', 'Area Worst', 'Smoothness Worst', 'Compactness Worst', 'Concavity Worst', 'Concave_Points Worst', 'Symmetry Worst', 'Fractal_Dimension Worst']\n",
        "data = pd.read_csv(url, header=None, names=columns)\n",
        "\n",
        "# In order to get rid of the ID columm, we will drop it\n",
        "data = data.drop('ID', axis=1)\n",
        "\n",
        "# We do not want to plot the Diagnosis, so we will drop this column and create a new dataset without the diagnosis\n",
        "features = data.drop('Diagnosis', axis=1)\n",
        "\n",
        "# We set up a grid to show all 30 features\n",
        "fig, axes = plt.subplots(6, 5, figsize=(20, 15))\n",
        "axes = axes.flatten()\n",
        "\n",
        "# Plot each feature with a title and axis\n",
        "for i, column in enumerate(features.columns):\n",
        "    sns.boxplot(data=features[column], ax=axes[i])\n",
        "    axes[i].set_title(column)\n",
        "\n",
        "# Minor layout adjustments and showing the plots\n",
        "plt.tight_layout()\n",
        "plt.show()"
      ],
      "metadata": {
        "collapsed": true,
        "id": "LKzTWXDhQL7C"
      },
      "execution_count": null,
      "outputs": []
    },
    {
      "cell_type": "markdown",
      "source": [
        "## Section 2: Data Preprocessing"
      ],
      "metadata": {
        "id": "SA5CQNdDi5cx"
      }
    },
    {
      "cell_type": "markdown",
      "source": [
        "##Section 3: Model Training"
      ],
      "metadata": {
        "id": "o6nKdbo9khFv"
      }
    },
    {
      "cell_type": "markdown",
      "source": [
        "##Section 4: Model Evaluation"
      ],
      "metadata": {
        "id": "msdvaJ9bknUO"
      }
    },
    {
      "cell_type": "markdown",
      "source": [
        "##Final Report"
      ],
      "metadata": {
        "id": "N0kC7cNhkrJ9"
      }
    },
    {
      "cell_type": "markdown",
      "source": [
        "##Conclusion"
      ],
      "metadata": {
        "id": "QgFABHYpk2Nb"
      }
    }
  ]
}