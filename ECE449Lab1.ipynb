{
  "nbformat": 4,
  "nbformat_minor": 0,
  "metadata": {
    "colab": {
      "provenance": [],
      "authorship_tag": "ABX9TyMeBe7oKmnIg21dyYmTzDzM",
      "include_colab_link": true
    },
    "kernelspec": {
      "name": "python3",
      "display_name": "Python 3"
    },
    "language_info": {
      "name": "python"
    }
  },
  "cells": [
    {
      "cell_type": "markdown",
      "metadata": {
        "id": "view-in-github",
        "colab_type": "text"
      },
      "source": [
        "<a href=\"https://colab.research.google.com/github/matthewlai12/ECE-Lab/blob/main/ECE449Lab1.ipynb\" target=\"_parent\"><img src=\"https://colab.research.google.com/assets/colab-badge.svg\" alt=\"Open In Colab\"/></a>"
      ]
    },
    {
      "cell_type": "markdown",
      "source": [
        "#**ECE 449 Lab 1**\n",
        "# Report by: Matthew Lai"
      ],
      "metadata": {
        "id": "hKMImoQAXK8y"
      }
    },
    {
      "cell_type": "markdown",
      "source": [
        "##Section 1: Data Collection\n",
        "###The first thing we need to do when creating our pipeline is collect our data.\n",
        "###We will import our data from a url to the database and drop the 'ID' column"
      ],
      "metadata": {
        "id": "w6U5-WktXdyq"
      }
    },
    {
      "cell_type": "code",
      "source": [
        "import pandas as pd\n",
        "\n",
        "\n",
        "# DATA COLLECTION:\n",
        "# We need to load the dataset in order to prepare it\n",
        "# Imported by reading the data csv file from the source\n",
        "\n",
        "# URL for the dataset\n",
        "url = \"https://archive.ics.uci.edu/ml/machine-learning-databases/breast-cancer-wisconsin/wdbc.data\"\n",
        "# We will create our columns to begin sorting the data\n",
        "columns = ['ID', 'Diagnosis', 'Radius', 'Texture', 'Perimeter', 'Area', 'Smoothness', 'Compactness', 'Concavity', 'Concave_Points', 'Symmetry', 'Fractal_Dimension',\n",
        "           'Radius SE', 'Texture SE', 'Perimeter SE', 'Area SE', 'Smoothness SE', 'Compactness SE', 'Concavity SE', 'Concave_Points SE', 'Symmetry SE', 'Fractal_Dimension SE',\n",
        "           'Radius Worst', 'Texture Worst', 'Perimeter Worst', 'Area Worst', 'Smoothness Worst', 'Compactness Worst', 'Concavity Worst', 'Concave_Points Worst', 'Symmetry Worst', 'Fractal_Dimension Worst']\n",
        "data = pd.read_csv(url, header=None, names=columns)\n",
        "\n",
        "print(data.head())\n"
      ],
      "metadata": {
        "colab": {
          "base_uri": "https://localhost:8080/"
        },
        "collapsed": true,
        "id": "LKzTWXDhQL7C",
        "outputId": "941b0c81-6c2e-413d-b60e-4afa5abe3566"
      },
      "execution_count": 1,
      "outputs": [
        {
          "output_type": "stream",
          "name": "stdout",
          "text": [
            "         ID Diagnosis  Radius  Texture  Perimeter    Area  Smoothness  \\\n",
            "0    842302         M   17.99    10.38     122.80  1001.0     0.11840   \n",
            "1    842517         M   20.57    17.77     132.90  1326.0     0.08474   \n",
            "2  84300903         M   19.69    21.25     130.00  1203.0     0.10960   \n",
            "3  84348301         M   11.42    20.38      77.58   386.1     0.14250   \n",
            "4  84358402         M   20.29    14.34     135.10  1297.0     0.10030   \n",
            "\n",
            "   Compactness  Concavity  Concave_Points  ...  Radius Worst  Texture Worst  \\\n",
            "0      0.27760     0.3001         0.14710  ...         25.38          17.33   \n",
            "1      0.07864     0.0869         0.07017  ...         24.99          23.41   \n",
            "2      0.15990     0.1974         0.12790  ...         23.57          25.53   \n",
            "3      0.28390     0.2414         0.10520  ...         14.91          26.50   \n",
            "4      0.13280     0.1980         0.10430  ...         22.54          16.67   \n",
            "\n",
            "   Perimeter Worst  Area Worst  Smoothness Worst  Compactness Worst  \\\n",
            "0           184.60      2019.0            0.1622             0.6656   \n",
            "1           158.80      1956.0            0.1238             0.1866   \n",
            "2           152.50      1709.0            0.1444             0.4245   \n",
            "3            98.87       567.7            0.2098             0.8663   \n",
            "4           152.20      1575.0            0.1374             0.2050   \n",
            "\n",
            "   Concavity Worst  Concave_Points Worst  Symmetry Worst  \\\n",
            "0           0.7119                0.2654          0.4601   \n",
            "1           0.2416                0.1860          0.2750   \n",
            "2           0.4504                0.2430          0.3613   \n",
            "3           0.6869                0.2575          0.6638   \n",
            "4           0.4000                0.1625          0.2364   \n",
            "\n",
            "   Fractal_Dimension Worst  \n",
            "0                  0.11890  \n",
            "1                  0.08902  \n",
            "2                  0.08758  \n",
            "3                  0.17300  \n",
            "4                  0.07678  \n",
            "\n",
            "[5 rows x 32 columns]\n"
          ]
        }
      ]
    }
  ]
}